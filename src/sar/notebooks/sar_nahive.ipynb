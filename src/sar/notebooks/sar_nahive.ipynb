{
 "cells": [
  {
   "cell_type": "markdown",
   "id": "14e782ec",
   "metadata": {},
   "source": [
    "## Un código sencillo para entender el funcionamiento del SAR"
   ]
  },
  {
   "cell_type": "code",
   "execution_count": 8,
   "id": "4f917c4a",
   "metadata": {},
   "outputs": [],
   "source": [
    "import numpy as np\n",
    "import pandas as pd\n",
    "from scipy.sparse import csr_matrix"
   ]
  },
  {
   "cell_type": "code",
   "execution_count": 204,
   "id": "e89caa91",
   "metadata": {},
   "outputs": [],
   "source": [
    "userIndexes = {i:i for i in range(10)}\n",
    "\n",
    "items = [\n",
    "    \"Bob Esponja\",\n",
    "    \"Harry Potter\",\n",
    "    \"Naruto\",\n",
    "    \"Batman\",\n",
    "    \"The Office\",\n",
    "    \"Mafiosos asesinos\",\n",
    "    \"Crimen en LA\",\n",
    "    \"Suspenso importante\",\n",
    "    \"Titanic\",\n",
    "    \"Interstellar\"\n",
    "]\n",
    "\n",
    "vistas_por_usuario = {\n",
    "    0: [\"Bob Esponja\", \"Naruto\"],\n",
    "    1: [\"Mafiosos asesinos\", \"Crimen en LA\"],\n",
    "    2: [\"Bob Esponja\", \"Harry Potter\"],\n",
    "    3: [\"Titanic\", \"Interstellar\", \"The Office\"],\n",
    "    4: [\"Bob Esponja\", \"The Office\"],\n",
    "    5: [\"Bob Esponja\", \"Naruto\"]\n",
    "}"
   ]
  },
  {
   "cell_type": "code",
   "execution_count": 205,
   "id": "64264446",
   "metadata": {},
   "outputs": [],
   "source": [
    "def build_items_viewers(vistas_por_usuario:dict) -> dict:\n",
    "    out = dict()\n",
    "    for usuario, pelis in vistas_por_usuario.items():\n",
    "        for peli in pelis:\n",
    "            if peli not in out.keys():\n",
    "                out.update({peli: [usuario]})\n",
    "            else:\n",
    "                out[peli].append(usuario)\n",
    "    return out"
   ]
  },
  {
   "cell_type": "code",
   "execution_count": 206,
   "id": "d334ae3e",
   "metadata": {},
   "outputs": [
    {
     "data": {
      "text/plain": [
       "{'Bob Esponja': [0, 2, 4, 5],\n",
       " 'Naruto': [0, 5],\n",
       " 'Mafiosos asesinos': [1],\n",
       " 'Crimen en LA': [1],\n",
       " 'Harry Potter': [2],\n",
       " 'Titanic': [3],\n",
       " 'Interstellar': [3],\n",
       " 'The Office': [3, 4]}"
      ]
     },
     "execution_count": 206,
     "metadata": {},
     "output_type": "execute_result"
    }
   ],
   "source": [
    "items_viewers = build_items_viewers(vistas_por_usuario)\n",
    "items_viewers"
   ]
  },
  {
   "cell_type": "code",
   "execution_count": 207,
   "id": "e88bd9cf",
   "metadata": {},
   "outputs": [],
   "source": [
    "def build_coocurrence_matrix(items:list, items_viewers:dict) -> csr_matrix:\n",
    "    \n",
    "    M:int = len(items)\n",
    "    C:csr_matrix = csr_matrix((M,M)).tolil()\n",
    "        \n",
    "    print(\"* Armando matriz C...\")\n",
    "    \n",
    "    for i, item_i in enumerate(items_viewers.keys()):\n",
    "\n",
    "        users_w_item_i:set = items_viewers[item_i] # usuarios que vieron el item i\n",
    "        index_i = items.index(item_i)\n",
    "\n",
    "        for j, item_j in enumerate(items_viewers.keys()):\n",
    "            \n",
    "            users_w_item_j:set = set(items_viewers[item_j]) # usuarios que vieron el item j\n",
    "            index_j = items.index(item_j)\n",
    "            \n",
    "            # print(item_i, item_j, len(users_w_item_j.intersection(users_w_item_i)))\n",
    "            C[index_i,index_j] = len(users_w_item_j.intersection(users_w_item_i))\n",
    "           \n",
    "    print(\"* Matriz creada ✔\")\n",
    "    return C"
   ]
  },
  {
   "cell_type": "code",
   "execution_count": 208,
   "id": "90a3fc26",
   "metadata": {},
   "outputs": [
    {
     "data": {
      "text/plain": [
       "2"
      ]
     },
     "execution_count": 208,
     "metadata": {},
     "output_type": "execute_result"
    }
   ],
   "source": [
    "len(set(items_viewers[\"Naruto\"]).intersection(set(items_viewers[\"Bob Esponja\"])))"
   ]
  },
  {
   "cell_type": "code",
   "execution_count": 209,
   "id": "21343479",
   "metadata": {},
   "outputs": [
    {
     "name": "stdout",
     "output_type": "stream",
     "text": [
      "* Armando matriz C...\n",
      "* Matriz creada ✔\n"
     ]
    }
   ],
   "source": [
    "C = build_coocurrence_matrix(items, items_viewers)"
   ]
  },
  {
   "cell_type": "code",
   "execution_count": 210,
   "id": "4e686e6e",
   "metadata": {},
   "outputs": [
    {
     "data": {
      "text/plain": [
       "array([[4., 1., 2., 0., 1., 0., 0., 0., 0., 0.],\n",
       "       [1., 1., 0., 0., 0., 0., 0., 0., 0., 0.],\n",
       "       [2., 0., 2., 0., 0., 0., 0., 0., 0., 0.],\n",
       "       [0., 0., 0., 0., 0., 0., 0., 0., 0., 0.],\n",
       "       [1., 0., 0., 0., 2., 0., 0., 0., 1., 1.],\n",
       "       [0., 0., 0., 0., 0., 1., 1., 0., 0., 0.],\n",
       "       [0., 0., 0., 0., 0., 1., 1., 0., 0., 0.],\n",
       "       [0., 0., 0., 0., 0., 0., 0., 0., 0., 0.],\n",
       "       [0., 0., 0., 0., 1., 0., 0., 0., 1., 1.],\n",
       "       [0., 0., 0., 0., 1., 0., 0., 0., 1., 1.]])"
      ]
     },
     "execution_count": 210,
     "metadata": {},
     "output_type": "execute_result"
    }
   ],
   "source": [
    "C.toarray()"
   ]
  },
  {
   "cell_type": "code",
   "execution_count": 211,
   "id": "f3e30d36",
   "metadata": {},
   "outputs": [],
   "source": [
    "S = C"
   ]
  },
  {
   "cell_type": "code",
   "execution_count": 212,
   "id": "9062f4bc",
   "metadata": {},
   "outputs": [
    {
     "data": {
      "text/plain": [
       "('Bob Esponja', 'Naruto')"
      ]
     },
     "execution_count": 212,
     "metadata": {},
     "output_type": "execute_result"
    }
   ],
   "source": [
    "items[0], items[2]"
   ]
  },
  {
   "cell_type": "code",
   "execution_count": 213,
   "id": "b8e14a71",
   "metadata": {},
   "outputs": [],
   "source": [
    "def to_ls_dataset(items_viewers:dict) -> list:\n",
    "    out = []\n",
    "    for peli, v in items_viewers.items():\n",
    "        for user in v:\n",
    "            out.append((user, peli))\n",
    "    return out"
   ]
  },
  {
   "cell_type": "code",
   "execution_count": 214,
   "id": "da231d2e",
   "metadata": {},
   "outputs": [],
   "source": [
    "ds = to_ls_dataset(items_viewers)"
   ]
  },
  {
   "cell_type": "code",
   "execution_count": 215,
   "id": "3286a7ed",
   "metadata": {},
   "outputs": [],
   "source": [
    "def compute_affinity_scores(dataset:list,\n",
    "                            verb=False) -> np.ndarray:\n",
    "            \n",
    "    M = len(itemIndexes.keys())   \n",
    "    N = len(userIndexes.keys())\n",
    "    \n",
    "    A:csr_matrix = csr_matrix((N, M)).tolil()  \n",
    "    \n",
    "    for interaction in dataset:\n",
    "        \n",
    "        user_id, peli = interaction\n",
    "        \n",
    "        if True:            \n",
    "            index_item = items.index(peli)\n",
    "            index_user = user_id\n",
    "\n",
    "            A[index_user, index_item] += 1 # score(time)\n",
    "    \n",
    "    pass\n",
    "        \n",
    "    return A     "
   ]
  },
  {
   "cell_type": "code",
   "execution_count": 216,
   "id": "b863909f",
   "metadata": {},
   "outputs": [],
   "source": [
    "A = compute_affinity_scores(ds)"
   ]
  },
  {
   "cell_type": "code",
   "execution_count": 217,
   "id": "2427637a",
   "metadata": {},
   "outputs": [
    {
     "data": {
      "text/plain": [
       "array([[1., 0., 1., 0., 0., 0., 0., 0., 0., 0.],\n",
       "       [0., 0., 0., 0., 0., 1., 1., 0., 0., 0.],\n",
       "       [1., 1., 0., 0., 0., 0., 0., 0., 0., 0.],\n",
       "       [0., 0., 0., 0., 1., 0., 0., 0., 1., 1.],\n",
       "       [1., 0., 0., 0., 1., 0., 0., 0., 0., 0.],\n",
       "       [1., 0., 1., 0., 0., 0., 0., 0., 0., 0.],\n",
       "       [0., 0., 0., 0., 0., 0., 0., 0., 0., 0.],\n",
       "       [0., 0., 0., 0., 0., 0., 0., 0., 0., 0.],\n",
       "       [0., 0., 0., 0., 0., 0., 0., 0., 0., 0.],\n",
       "       [0., 0., 0., 0., 0., 0., 0., 0., 0., 0.]])"
      ]
     },
     "execution_count": 217,
     "metadata": {},
     "output_type": "execute_result"
    }
   ],
   "source": [
    "A.toarray()"
   ]
  },
  {
   "cell_type": "code",
   "execution_count": 218,
   "id": "77ea967a",
   "metadata": {},
   "outputs": [],
   "source": [
    "Y = A @ S"
   ]
  },
  {
   "cell_type": "code",
   "execution_count": 219,
   "id": "7628a2db",
   "metadata": {},
   "outputs": [],
   "source": [
    "def maximo_score(lss:list) -> tuple:\n",
    "    mm = -1\n",
    "    index = -1\n",
    "    for i, s in lss:\n",
    "        if s > mm:\n",
    "            mm = s\n",
    "            index = i\n",
    "        pass\n",
    "    return (index, mm)"
   ]
  },
  {
   "cell_type": "code",
   "execution_count": 220,
   "id": "86e6b2d0",
   "metadata": {},
   "outputs": [
    {
     "data": {
      "text/plain": [
       "(3, 5)"
      ]
     },
     "execution_count": 220,
     "metadata": {},
     "output_type": "execute_result"
    }
   ],
   "source": [
    "maximo_score([(1,2),(3,5),(1,4)])"
   ]
  },
  {
   "cell_type": "code",
   "execution_count": 221,
   "id": "7db4c74f",
   "metadata": {},
   "outputs": [],
   "source": [
    "def sort_2nd(ls:list) -> list:\n",
    "    \n",
    "    if len(ls) == 1:\n",
    "        return ls\n",
    "    \n",
    "    else:        \n",
    "        head = ls[0]\n",
    "        head_index, head_score = head\n",
    "        \n",
    "        tail_max = maximo_score(ls[1:])\n",
    "        tail_max_index, tail_max_score = tail_max\n",
    "        \n",
    "        if head_score >= tail_max_score:\n",
    "            out = [head]\n",
    "            out.extend(sort_2nd(ls[1:]))\n",
    "        else:\n",
    "            q = ls.copy()\n",
    "            q.remove(tail_max)\n",
    "            out = [tail_max]\n",
    "            out.extend(sort_2nd(q))\n",
    "        \n",
    "        return out"
   ]
  },
  {
   "cell_type": "code",
   "execution_count": 222,
   "id": "fd1554b2",
   "metadata": {},
   "outputs": [
    {
     "data": {
      "text/html": [
       "<div>\n",
       "<style scoped>\n",
       "    .dataframe tbody tr th:only-of-type {\n",
       "        vertical-align: middle;\n",
       "    }\n",
       "\n",
       "    .dataframe tbody tr th {\n",
       "        vertical-align: top;\n",
       "    }\n",
       "\n",
       "    .dataframe thead th {\n",
       "        text-align: right;\n",
       "    }\n",
       "</style>\n",
       "<table border=\"1\" class=\"dataframe\">\n",
       "  <thead>\n",
       "    <tr style=\"text-align: right;\">\n",
       "      <th></th>\n",
       "      <th>0</th>\n",
       "      <th>1</th>\n",
       "    </tr>\n",
       "  </thead>\n",
       "  <tbody>\n",
       "    <tr>\n",
       "      <th>0</th>\n",
       "      <td>The Office</td>\n",
       "      <td>2.0</td>\n",
       "    </tr>\n",
       "    <tr>\n",
       "      <th>1</th>\n",
       "      <td>Bob Esponja</td>\n",
       "      <td>1.0</td>\n",
       "    </tr>\n",
       "    <tr>\n",
       "      <th>2</th>\n",
       "      <td>Titanic</td>\n",
       "      <td>1.0</td>\n",
       "    </tr>\n",
       "    <tr>\n",
       "      <th>3</th>\n",
       "      <td>Interstellar</td>\n",
       "      <td>1.0</td>\n",
       "    </tr>\n",
       "    <tr>\n",
       "      <th>4</th>\n",
       "      <td>Harry Potter</td>\n",
       "      <td>0.0</td>\n",
       "    </tr>\n",
       "    <tr>\n",
       "      <th>5</th>\n",
       "      <td>Naruto</td>\n",
       "      <td>0.0</td>\n",
       "    </tr>\n",
       "    <tr>\n",
       "      <th>6</th>\n",
       "      <td>Batman</td>\n",
       "      <td>0.0</td>\n",
       "    </tr>\n",
       "    <tr>\n",
       "      <th>7</th>\n",
       "      <td>Mafiosos asesinos</td>\n",
       "      <td>0.0</td>\n",
       "    </tr>\n",
       "    <tr>\n",
       "      <th>8</th>\n",
       "      <td>Crimen en LA</td>\n",
       "      <td>0.0</td>\n",
       "    </tr>\n",
       "    <tr>\n",
       "      <th>9</th>\n",
       "      <td>Suspenso importante</td>\n",
       "      <td>0.0</td>\n",
       "    </tr>\n",
       "  </tbody>\n",
       "</table>\n",
       "</div>"
      ],
      "text/plain": [
       "                     0    1\n",
       "0           The Office  2.0\n",
       "1          Bob Esponja  1.0\n",
       "2              Titanic  1.0\n",
       "3         Interstellar  1.0\n",
       "4         Harry Potter  0.0\n",
       "5               Naruto  0.0\n",
       "6               Batman  0.0\n",
       "7    Mafiosos asesinos  0.0\n",
       "8         Crimen en LA  0.0\n",
       "9  Suspenso importante  0.0"
      ]
     },
     "execution_count": 222,
     "metadata": {},
     "output_type": "execute_result"
    }
   ],
   "source": [
    "item = \"The Office\"\n",
    "i = items.index(item)\n",
    "fila_i = list(S[i].toarray()[0])\n",
    "fila_i_index = [(index, s) for index, s in enumerate(fila_i)]\n",
    "sorted_fila_i_index = sort_2nd(fila_i_index)\n",
    "\n",
    "des = list()\n",
    "for i, s in sorted_fila_i_index:\n",
    "    des.append((items[i], s))\n",
    "\n",
    "p = pd.DataFrame(des)\n",
    "p.head(10)"
   ]
  },
  {
   "cell_type": "code",
   "execution_count": 223,
   "id": "643e9a99",
   "metadata": {},
   "outputs": [
    {
     "data": {
      "text/plain": [
       "{'Bob Esponja': [0, 2, 4, 5],\n",
       " 'Naruto': [0, 5],\n",
       " 'Mafiosos asesinos': [1],\n",
       " 'Crimen en LA': [1],\n",
       " 'Harry Potter': [2],\n",
       " 'Titanic': [3],\n",
       " 'Interstellar': [3],\n",
       " 'The Office': [3, 4]}"
      ]
     },
     "execution_count": 223,
     "metadata": {},
     "output_type": "execute_result"
    }
   ],
   "source": [
    "items_viewers"
   ]
  }
 ],
 "metadata": {
  "kernelspec": {
   "display_name": "Python 3 (ipykernel)",
   "language": "python",
   "name": "python3"
  },
  "language_info": {
   "codemirror_mode": {
    "name": "ipython",
    "version": 3
   },
   "file_extension": ".py",
   "mimetype": "text/x-python",
   "name": "python",
   "nbconvert_exporter": "python",
   "pygments_lexer": "ipython3",
   "version": "3.10.6"
  }
 },
 "nbformat": 4,
 "nbformat_minor": 5
}
