{
 "cells": [
  {
   "cell_type": "markdown",
   "metadata": {},
   "source": [
    "# Fine Tuning del ALS.\n",
    "\n",
    "Eligiendo los mejores parametros para nuestro modelo.\n",
    "\n",
    "Sabemos que un modelo ALS implícito se construye a partir de los parametros $rank$, $\\lambda$, $maxIter$ y luego se adapta a los datos provistos en el entrenamiento.\n",
    "\n",
    "Donde cada parametro significa:\n",
    "> $rank (r)$: cantidad de factores que van a tener los vectores usuarios ($x_u$) e items ($y_i$). <br>\n",
    "> $\\lambda$: constante de regularizacion para evitar el overfitting. <br>\n",
    "> $maxIter (M)$: maximo numero de iteraciones al dataset.\n",
    "\n",
    "Luego, podemos definir multiples modelos como colecciones de $model_j$ ~ $ALS(r_j, \\lambda_j, M_j)$.\n",
    "\n",
    "<u>Observacion:</u> En la practica $als_j \\leftrightarrow model_j = als_j.fit(ds)$\n",
    "\n",
    "Para comparar los modelos vamos a usar las siguientes metricas:\n",
    "\n",
    "* [1] Precision del modelo\n",
    "* [2] Tiempo de entrenamiento"
   ]
  },
  {
   "cell_type": "code",
   "execution_count": 214,
   "metadata": {},
   "outputs": [],
   "source": [
    "from pyspark.ml.recommendation import ALS\n",
    "from pyspark.ml.clustering import KMeans\n",
    "from pyspark.ml.clustering import BisectingKMeans\n",
    "\n",
    "from pyspark import SparkContext, SparkConf\n",
    "from pyspark.sql import SQLContext, DataFrame\n",
    "from pyspark.sql.functions import col, lit, udf\n",
    "from pyspark.sql.types import *\n",
    "\n",
    "from tqdm.notebook import trange, tqdm\n",
    "import matplotlib.pyplot as plt\n",
    "import numpy as np\n",
    "import pandas as pd\n",
    "import time\n",
    "\n",
    "from models.utils import uutils\n",
    "from models.interpreter import Interpreter"
   ]
  },
  {
   "cell_type": "code",
   "execution_count": 28,
   "metadata": {},
   "outputs": [],
   "source": [
    "load_options = {\"table\": \"view_events\", \"keyspace\": \"clarovideo\"}\n",
    "df = spark.read.format(\"org.apache.spark.sql.cassandra\").options(**load_options).load()\n",
    "df = df.withColumn(\"view\", lit(1))"
   ]
  },
  {
   "cell_type": "code",
   "execution_count": 29,
   "metadata": {},
   "outputs": [
    {
     "name": "stdout",
     "output_type": "stream",
     "text": [
      "root\n",
      " |-- user_id: integer (nullable = false)\n",
      " |-- event: string (nullable = true)\n",
      " |-- event_time: timestamp (nullable = true)\n",
      " |-- group_id: integer (nullable = true)\n",
      " |-- view: integer (nullable = false)\n",
      "\n"
     ]
    }
   ],
   "source": [
    "df.printSchema()"
   ]
  },
  {
   "cell_type": "markdown",
   "metadata": {},
   "source": [
    "Voy a armar multiples datasets para ver las metricas en funcion a la cantidad de datos con los que es entrenado el modelo."
   ]
  },
  {
   "cell_type": "code",
   "execution_count": 198,
   "metadata": {},
   "outputs": [],
   "source": [
    "LENGTHS = [100, 1000, 5000, 10000, 25000, 50000]\n",
    "datasets = [df.limit(length) for length in LENGTHS]"
   ]
  },
  {
   "cell_type": "markdown",
   "metadata": {},
   "source": [
    "### Armamos los modelos que vamos a comparar."
   ]
  },
  {
   "cell_type": "code",
   "execution_count": 206,
   "metadata": {},
   "outputs": [],
   "source": [
    "RANKS = [5, 20, 40, 100]\n",
    "MAX_ITERS = [3, 5, 10, 15]\n",
    "REG_PARAMS = [0.01] # , 0.1, 0.5, 1.0\n",
    "\n",
    "base_als = lambda r,m,l: ALS(maxIter=m, rank=r, regParam=l,\n",
    "                             userCol='user_id',itemCol='group_id', ratingCol='view',implicitPrefs=True)\n",
    "\n",
    "ALS_MODELS = [\n",
    "    base_als(r,m,l) for r in RANKS for m in MAX_ITERS for l in REG_PARAMS\n",
    "]\n",
    "\n",
    "MODELS = [] # aca van a ir los modelos entrenados bajo un mismo dataset "
   ]
  },
  {
   "cell_type": "markdown",
   "metadata": {},
   "source": [
    "## [1] Tiempo de entrenamiento\n",
    "\n",
    "Como para ver la precision del modelo necesitamos que este entrenado, primero vamos a ver la optimizacion segun tiempo de entrenamiento."
   ]
  },
  {
   "cell_type": "code",
   "execution_count": 139,
   "metadata": {},
   "outputs": [
    {
     "data": {
      "application/vnd.jupyter.widget-view+json": {
       "model_id": "332d6e0470e748bf9a3d757d24bbf3da",
       "version_major": 2,
       "version_minor": 0
      },
      "text/plain": [
       "  0%|          | 0/16 [00:00<?, ?it/s]"
      ]
     },
     "metadata": {},
     "output_type": "display_data"
    },
    {
     "name": "stderr",
     "output_type": "stream",
     "text": [
      "23/07/14 18:36:54 WARN DAGScheduler: Broadcasting large task binary with size 1030.6 KiB\n",
      "23/07/14 18:36:55 WARN DAGScheduler: Broadcasting large task binary with size 1073.0 KiB\n",
      "23/07/14 18:36:55 WARN DAGScheduler: Broadcasting large task binary with size 1031.4 KiB\n",
      "23/07/14 18:36:55 WARN DAGScheduler: Broadcasting large task binary with size 1115.5 KiB\n",
      "23/07/14 18:36:55 WARN DAGScheduler: Broadcasting large task binary with size 1073.9 KiB\n",
      "23/07/14 18:36:55 WARN DAGScheduler: Broadcasting large task binary with size 1157.9 KiB\n",
      "23/07/14 18:36:55 WARN DAGScheduler: Broadcasting large task binary with size 1116.3 KiB\n",
      "23/07/14 18:36:55 WARN DAGScheduler: Broadcasting large task binary with size 1200.4 KiB\n",
      "23/07/14 18:36:56 WARN DAGScheduler: Broadcasting large task binary with size 1158.8 KiB\n",
      "23/07/14 18:36:56 WARN DAGScheduler: Broadcasting large task binary with size 1242.8 KiB\n",
      "23/07/14 18:36:56 WARN DAGScheduler: Broadcasting large task binary with size 1201.2 KiB\n",
      "23/07/14 18:36:56 WARN DAGScheduler: Broadcasting large task binary with size 1285.3 KiB\n",
      "23/07/14 18:36:56 WARN DAGScheduler: Broadcasting large task binary with size 1243.7 KiB\n",
      "23/07/14 18:36:56 WARN DAGScheduler: Broadcasting large task binary with size 1327.7 KiB\n",
      "23/07/14 18:36:57 WARN DAGScheduler: Broadcasting large task binary with size 1286.1 KiB\n",
      "23/07/14 18:36:57 WARN DAGScheduler: Broadcasting large task binary with size 1329.2 KiB\n",
      "23/07/14 18:36:57 WARN DAGScheduler: Broadcasting large task binary with size 1286.7 KiB\n",
      "23/07/14 18:37:06 WARN DAGScheduler: Broadcasting large task binary with size 1030.6 KiB\n",
      "23/07/14 18:37:06 WARN DAGScheduler: Broadcasting large task binary with size 1073.0 KiB\n",
      "23/07/14 18:37:07 WARN DAGScheduler: Broadcasting large task binary with size 1031.4 KiB\n",
      "23/07/14 18:37:07 WARN DAGScheduler: Broadcasting large task binary with size 1115.5 KiB\n",
      "23/07/14 18:37:07 WARN DAGScheduler: Broadcasting large task binary with size 1073.9 KiB\n",
      "23/07/14 18:37:07 WARN DAGScheduler: Broadcasting large task binary with size 1157.9 KiB\n",
      "23/07/14 18:37:07 WARN DAGScheduler: Broadcasting large task binary with size 1116.3 KiB\n",
      "23/07/14 18:37:07 WARN DAGScheduler: Broadcasting large task binary with size 1200.4 KiB\n",
      "23/07/14 18:37:08 WARN DAGScheduler: Broadcasting large task binary with size 1158.8 KiB\n",
      "23/07/14 18:37:08 WARN DAGScheduler: Broadcasting large task binary with size 1242.8 KiB\n",
      "23/07/14 18:37:08 WARN DAGScheduler: Broadcasting large task binary with size 1201.2 KiB\n",
      "23/07/14 18:37:08 WARN DAGScheduler: Broadcasting large task binary with size 1285.3 KiB\n",
      "23/07/14 18:37:08 WARN DAGScheduler: Broadcasting large task binary with size 1243.7 KiB\n",
      "23/07/14 18:37:08 WARN DAGScheduler: Broadcasting large task binary with size 1327.7 KiB\n",
      "23/07/14 18:37:09 WARN DAGScheduler: Broadcasting large task binary with size 1286.1 KiB\n",
      "23/07/14 18:37:09 WARN DAGScheduler: Broadcasting large task binary with size 1329.2 KiB\n",
      "23/07/14 18:37:09 WARN DAGScheduler: Broadcasting large task binary with size 1286.7 KiB\n",
      "23/07/14 18:37:30 WARN DAGScheduler: Broadcasting large task binary with size 1030.6 KiB\n",
      "23/07/14 18:37:31 WARN DAGScheduler: Broadcasting large task binary with size 1073.0 KiB\n",
      "23/07/14 18:37:31 WARN DAGScheduler: Broadcasting large task binary with size 1031.4 KiB\n",
      "23/07/14 18:37:32 WARN DAGScheduler: Broadcasting large task binary with size 1115.5 KiB\n",
      "23/07/14 18:37:32 WARN DAGScheduler: Broadcasting large task binary with size 1073.9 KiB\n",
      "23/07/14 18:37:32 WARN DAGScheduler: Broadcasting large task binary with size 1157.9 KiB\n",
      "23/07/14 18:37:33 WARN DAGScheduler: Broadcasting large task binary with size 1116.3 KiB\n",
      "23/07/14 18:37:33 WARN DAGScheduler: Broadcasting large task binary with size 1200.4 KiB\n",
      "23/07/14 18:37:33 WARN DAGScheduler: Broadcasting large task binary with size 1158.8 KiB\n",
      "23/07/14 18:37:33 WARN DAGScheduler: Broadcasting large task binary with size 1242.8 KiB\n",
      "23/07/14 18:37:34 WARN DAGScheduler: Broadcasting large task binary with size 1201.2 KiB\n",
      "23/07/14 18:37:34 WARN DAGScheduler: Broadcasting large task binary with size 1285.3 KiB\n",
      "23/07/14 18:37:34 WARN DAGScheduler: Broadcasting large task binary with size 1243.7 KiB\n",
      "23/07/14 18:37:35 WARN DAGScheduler: Broadcasting large task binary with size 1327.7 KiB\n",
      "23/07/14 18:37:35 WARN DAGScheduler: Broadcasting large task binary with size 1286.1 KiB\n",
      "23/07/14 18:37:36 WARN DAGScheduler: Broadcasting large task binary with size 1329.2 KiB\n",
      "23/07/14 18:37:36 WARN DAGScheduler: Broadcasting large task binary with size 1286.7 KiB\n",
      "23/07/14 18:38:11 WARN DAGScheduler: Broadcasting large task binary with size 1030.6 KiB\n",
      "23/07/14 18:38:12 WARN DAGScheduler: Broadcasting large task binary with size 1073.0 KiB\n",
      "23/07/14 18:38:13 WARN DAGScheduler: Broadcasting large task binary with size 1031.4 KiB\n",
      "23/07/14 18:38:13 WARN DAGScheduler: Broadcasting large task binary with size 1115.5 KiB\n",
      "23/07/14 18:38:14 WARN DAGScheduler: Broadcasting large task binary with size 1073.9 KiB\n",
      "23/07/14 18:38:14 WARN DAGScheduler: Broadcasting large task binary with size 1157.9 KiB\n",
      "23/07/14 18:38:15 WARN DAGScheduler: Broadcasting large task binary with size 1116.3 KiB\n",
      "23/07/14 18:38:15 WARN DAGScheduler: Broadcasting large task binary with size 1200.4 KiB\n",
      "23/07/14 18:38:16 WARN DAGScheduler: Broadcasting large task binary with size 1158.8 KiB\n",
      "23/07/14 18:38:16 WARN DAGScheduler: Broadcasting large task binary with size 1242.8 KiB\n",
      "23/07/14 18:38:17 WARN DAGScheduler: Broadcasting large task binary with size 1201.2 KiB\n",
      "23/07/14 18:38:17 WARN DAGScheduler: Broadcasting large task binary with size 1285.3 KiB\n",
      "23/07/14 18:38:17 WARN DAGScheduler: Broadcasting large task binary with size 1243.7 KiB\n",
      "23/07/14 18:38:17 WARN DAGScheduler: Broadcasting large task binary with size 1327.7 KiB\n",
      "23/07/14 18:38:19 WARN DAGScheduler: Broadcasting large task binary with size 1286.1 KiB\n",
      "23/07/14 18:38:19 WARN DAGScheduler: Broadcasting large task binary with size 1329.2 KiB\n",
      "23/07/14 18:38:20 WARN DAGScheduler: Broadcasting large task binary with size 1286.7 KiB\n",
      "23/07/14 18:39:22 WARN DAGScheduler: Broadcasting large task binary with size 1030.6 KiB\n",
      "23/07/14 18:39:24 WARN DAGScheduler: Broadcasting large task binary with size 1073.0 KiB\n",
      "23/07/14 18:39:26 WARN DAGScheduler: Broadcasting large task binary with size 1031.4 KiB\n",
      "23/07/14 18:39:26 WARN DAGScheduler: Broadcasting large task binary with size 1115.5 KiB\n",
      "23/07/14 18:39:28 WARN DAGScheduler: Broadcasting large task binary with size 1073.9 KiB\n",
      "23/07/14 18:39:28 WARN DAGScheduler: Broadcasting large task binary with size 1157.9 KiB\n",
      "23/07/14 18:39:30 WARN DAGScheduler: Broadcasting large task binary with size 1116.3 KiB\n",
      "23/07/14 18:39:30 WARN DAGScheduler: Broadcasting large task binary with size 1200.4 KiB\n",
      "23/07/14 18:39:31 WARN DAGScheduler: Broadcasting large task binary with size 1158.8 KiB\n",
      "23/07/14 18:39:31 WARN DAGScheduler: Broadcasting large task binary with size 1242.8 KiB\n",
      "23/07/14 18:39:34 WARN DAGScheduler: Broadcasting large task binary with size 1201.2 KiB\n",
      "23/07/14 18:39:34 WARN DAGScheduler: Broadcasting large task binary with size 1285.3 KiB\n",
      "23/07/14 18:39:35 WARN DAGScheduler: Broadcasting large task binary with size 1243.7 KiB\n",
      "23/07/14 18:39:35 WARN DAGScheduler: Broadcasting large task binary with size 1327.7 KiB\n",
      "23/07/14 18:39:37 WARN DAGScheduler: Broadcasting large task binary with size 1286.1 KiB\n",
      "23/07/14 18:39:38 WARN DAGScheduler: Broadcasting large task binary with size 1329.2 KiB\n",
      "23/07/14 18:39:39 WARN DAGScheduler: Broadcasting large task binary with size 1286.7 KiB\n",
      "23/07/14 18:41:19 WARN DAGScheduler: Broadcasting large task binary with size 1030.6 KiB\n",
      "23/07/14 18:41:21 WARN DAGScheduler: Broadcasting large task binary with size 1073.0 KiB\n",
      "23/07/14 18:41:24 WARN DAGScheduler: Broadcasting large task binary with size 1031.4 KiB\n",
      "23/07/14 18:41:24 WARN DAGScheduler: Broadcasting large task binary with size 1115.5 KiB\n",
      "23/07/14 18:41:26 WARN DAGScheduler: Broadcasting large task binary with size 1073.9 KiB\n",
      "23/07/14 18:41:26 WARN DAGScheduler: Broadcasting large task binary with size 1157.9 KiB\n",
      "23/07/14 18:41:29 WARN DAGScheduler: Broadcasting large task binary with size 1116.3 KiB\n",
      "23/07/14 18:41:29 WARN DAGScheduler: Broadcasting large task binary with size 1200.4 KiB\n",
      "23/07/14 18:41:31 WARN DAGScheduler: Broadcasting large task binary with size 1158.8 KiB\n",
      "23/07/14 18:41:32 WARN DAGScheduler: Broadcasting large task binary with size 1242.8 KiB\n",
      "23/07/14 18:41:34 WARN DAGScheduler: Broadcasting large task binary with size 1201.2 KiB\n",
      "23/07/14 18:41:35 WARN DAGScheduler: Broadcasting large task binary with size 1285.3 KiB\n",
      "23/07/14 18:41:36 WARN DAGScheduler: Broadcasting large task binary with size 1243.7 KiB\n",
      "23/07/14 18:41:37 WARN DAGScheduler: Broadcasting large task binary with size 1327.7 KiB\n",
      "23/07/14 18:41:40 WARN DAGScheduler: Broadcasting large task binary with size 1286.1 KiB\n",
      "23/07/14 18:41:40 WARN DAGScheduler: Broadcasting large task binary with size 1329.2 KiB\n",
      "23/07/14 18:41:42 WARN DAGScheduler: Broadcasting large task binary with size 1286.7 KiB\n"
     ]
    }
   ],
   "source": [
    "def compute_train_times(models) -> list():\n",
    "    \n",
    "    train_times = [] # aca guardo los tiempos de entrenamiento de cada modelo como una sublistas\n",
    "\n",
    "    for j in trange(len(models)):\n",
    "\n",
    "        als_model = models[j]\n",
    "        model_times = []\n",
    "        \n",
    "        for ds in datasets:\n",
    "\n",
    "            start_time = time.time()\n",
    "            model = als_model.fit(ds)\n",
    "            end_time = time.time()\n",
    "\n",
    "            model_times.append(end_time - start_time)\n",
    "            MODELS.append(model)\n",
    "        \n",
    "        train_times.append(model_times)\n",
    "            \n",
    "    return train_times\n",
    "\n",
    "_train_times = compute_train_times(MODELS)"
   ]
  },
  {
   "cell_type": "code",
   "execution_count": 143,
   "metadata": {},
   "outputs": [],
   "source": [
    "train_times = _train_times"
   ]
  },
  {
   "cell_type": "code",
   "execution_count": 150,
   "metadata": {},
   "outputs": [
    {
     "data": {
      "text/html": [
       "<div>\n",
       "<style scoped>\n",
       "    .dataframe tbody tr th:only-of-type {\n",
       "        vertical-align: middle;\n",
       "    }\n",
       "\n",
       "    .dataframe tbody tr th {\n",
       "        vertical-align: top;\n",
       "    }\n",
       "\n",
       "    .dataframe thead th {\n",
       "        text-align: right;\n",
       "    }\n",
       "</style>\n",
       "<table border=\"1\" class=\"dataframe\">\n",
       "  <thead>\n",
       "    <tr style=\"text-align: right;\">\n",
       "      <th></th>\n",
       "      <th>rank</th>\n",
       "      <th>max_iter</th>\n",
       "      <th>reg_param</th>\n",
       "      <th>length</th>\n",
       "      <th>train_times</th>\n",
       "    </tr>\n",
       "  </thead>\n",
       "  <tbody>\n",
       "    <tr>\n",
       "      <th>0</th>\n",
       "      <td>5</td>\n",
       "      <td>3</td>\n",
       "      <td>0.01</td>\n",
       "      <td>100</td>\n",
       "      <td>3.521354</td>\n",
       "    </tr>\n",
       "    <tr>\n",
       "      <th>1</th>\n",
       "      <td>5</td>\n",
       "      <td>3</td>\n",
       "      <td>0.01</td>\n",
       "      <td>1000</td>\n",
       "      <td>4.056135</td>\n",
       "    </tr>\n",
       "    <tr>\n",
       "      <th>2</th>\n",
       "      <td>5</td>\n",
       "      <td>3</td>\n",
       "      <td>0.01</td>\n",
       "      <td>5000</td>\n",
       "      <td>6.853392</td>\n",
       "    </tr>\n",
       "    <tr>\n",
       "      <th>3</th>\n",
       "      <td>5</td>\n",
       "      <td>3</td>\n",
       "      <td>0.01</td>\n",
       "      <td>10000</td>\n",
       "      <td>10.334830</td>\n",
       "    </tr>\n",
       "    <tr>\n",
       "      <th>4</th>\n",
       "      <td>5</td>\n",
       "      <td>3</td>\n",
       "      <td>0.01</td>\n",
       "      <td>25000</td>\n",
       "      <td>22.035727</td>\n",
       "    </tr>\n",
       "  </tbody>\n",
       "</table>\n",
       "</div>"
      ],
      "text/plain": [
       "   rank  max_iter  reg_param  length  train_times\n",
       "0     5         3       0.01     100     3.521354\n",
       "1     5         3       0.01    1000     4.056135\n",
       "2     5         3       0.01    5000     6.853392\n",
       "3     5         3       0.01   10000    10.334830\n",
       "4     5         3       0.01   25000    22.035727"
      ]
     },
     "execution_count": 150,
     "metadata": {},
     "output_type": "execute_result"
    }
   ],
   "source": [
    "times = []\n",
    "for j, model in enumerate(MODELS):\n",
    "    model_res = [\n",
    "        (model.getRank(), model.getMaxIter(), model.getRegParam(), LENGTHS[k], train_times[j][k]) for k in range(len(train_times[j]))\n",
    "       ]\n",
    "    times.extend(model_res)\n",
    "\n",
    "times_df = pd.DataFrame(times, columns=[\"rank\", \"max_iter\", \"reg_param\", \"length\", \"train_times\"])\n",
    "times_df.head()"
   ]
  },
  {
   "cell_type": "markdown",
   "metadata": {},
   "source": [
    "#### Correlacion Pearson\n",
    "\n",
    "Vemos la correlacion lineal entre los parametros y el train_times\n",
    "\n",
    "$$\\rho_{X, Y} = \\frac{Cov(X,Y)}{\\sqrt{Var(X)Var(Y)}}$$\n",
    "\n",
    "Donde $\\rho_{X, Y} \\in [-1, 1]$ y se interpreta: \n",
    "* $\\rho_{X, Y} \\rightarrow 1$: Existe una fuerte relacion directamente proporcional (cuando crece una, crece la otra) \n",
    "* $\\rho_{X, Y} \\rightarrow 0$: No existe correlacion lineal (no implica que sean independientes) \n",
    "* $\\rho_{X, Y} \\rightarrow -1$: Existe una fuerte relacion inversamente proporcional (cuando crece una, decrece la otra) "
   ]
  },
  {
   "cell_type": "code",
   "execution_count": 152,
   "metadata": {},
   "outputs": [
    {
     "data": {
      "text/html": [
       "<div>\n",
       "<style scoped>\n",
       "    .dataframe tbody tr th:only-of-type {\n",
       "        vertical-align: middle;\n",
       "    }\n",
       "\n",
       "    .dataframe tbody tr th {\n",
       "        vertical-align: top;\n",
       "    }\n",
       "\n",
       "    .dataframe thead th {\n",
       "        text-align: right;\n",
       "    }\n",
       "</style>\n",
       "<table border=\"1\" class=\"dataframe\">\n",
       "  <thead>\n",
       "    <tr style=\"text-align: right;\">\n",
       "      <th></th>\n",
       "      <th>rank</th>\n",
       "      <th>max_iter</th>\n",
       "      <th>reg_param</th>\n",
       "      <th>length</th>\n",
       "      <th>train_times</th>\n",
       "    </tr>\n",
       "  </thead>\n",
       "  <tbody>\n",
       "    <tr>\n",
       "      <th>rank</th>\n",
       "      <td>1.000000e+00</td>\n",
       "      <td>2.534448e-16</td>\n",
       "      <td>NaN</td>\n",
       "      <td>3.044494e-17</td>\n",
       "      <td>0.322405</td>\n",
       "    </tr>\n",
       "    <tr>\n",
       "      <th>max_iter</th>\n",
       "      <td>2.534448e-16</td>\n",
       "      <td>1.000000e+00</td>\n",
       "      <td>NaN</td>\n",
       "      <td>3.320673e-17</td>\n",
       "      <td>0.184147</td>\n",
       "    </tr>\n",
       "    <tr>\n",
       "      <th>reg_param</th>\n",
       "      <td>NaN</td>\n",
       "      <td>NaN</td>\n",
       "      <td>NaN</td>\n",
       "      <td>NaN</td>\n",
       "      <td>NaN</td>\n",
       "    </tr>\n",
       "    <tr>\n",
       "      <th>length</th>\n",
       "      <td>3.044494e-17</td>\n",
       "      <td>3.320673e-17</td>\n",
       "      <td>NaN</td>\n",
       "      <td>1.000000e+00</td>\n",
       "      <td>0.831795</td>\n",
       "    </tr>\n",
       "    <tr>\n",
       "      <th>train_times</th>\n",
       "      <td>3.224046e-01</td>\n",
       "      <td>1.841467e-01</td>\n",
       "      <td>NaN</td>\n",
       "      <td>8.317948e-01</td>\n",
       "      <td>1.000000</td>\n",
       "    </tr>\n",
       "  </tbody>\n",
       "</table>\n",
       "</div>"
      ],
      "text/plain": [
       "                     rank      max_iter  reg_param        length  train_times\n",
       "rank         1.000000e+00  2.534448e-16        NaN  3.044494e-17     0.322405\n",
       "max_iter     2.534448e-16  1.000000e+00        NaN  3.320673e-17     0.184147\n",
       "reg_param             NaN           NaN        NaN           NaN          NaN\n",
       "length       3.044494e-17  3.320673e-17        NaN  1.000000e+00     0.831795\n",
       "train_times  3.224046e-01  1.841467e-01        NaN  8.317948e-01     1.000000"
      ]
     },
     "execution_count": 152,
     "metadata": {},
     "output_type": "execute_result"
    }
   ],
   "source": [
    "# correlacion pearson\n",
    "times_df.corr(method=\"pearson\")"
   ]
  },
  {
   "cell_type": "markdown",
   "metadata": {},
   "source": [
    "Como vemos, levemente hay una relacion directamente proporcional y lineal entre $rank$ y train_times, asi como entre $maxIter$ y train_times."
   ]
  },
  {
   "cell_type": "code",
   "execution_count": 191,
   "metadata": {},
   "outputs": [
    {
     "data": {
      "image/png": "[encoded data removed]",
      "text/plain": [
       "<Figure size 432x288 with 1 Axes>"
      ]
     },
     "metadata": {
      "needs_background": "light"
     },
     "output_type": "display_data"
    }
   ],
   "source": [
    "fig = plt.figure()\n",
    "ax = plt.axes(projection='3d')\n",
    "ax.title.set_text('Tiempo de entrenamiento')\n",
    "\n",
    "ax.set_xlabel('rank')\n",
    "ax.set_ylabel('maxIter')\n",
    "ax.set_zlabel('time (s)')\n",
    "\n",
    "for i, model in enumerate(MODELS):\n",
    "    rank = model.getRank()\n",
    "    maxIter = model.getMaxIter()\n",
    "    for t in train_times[i]:\n",
    "        ax.scatter(rank, maxIter, t, color=\"red\")   "
   ]
  },
  {
   "cell_type": "code",
   "execution_count": 197,
   "metadata": {},
   "outputs": [
    {
     "data": {
      "text/plain": [
       "<matplotlib.legend.Legend at 0x7fbcf6fb66e0>"
      ]
     },
     "execution_count": 197,
     "metadata": {},
     "output_type": "execute_result"
    },
    {
     "data": {
      "image/png": "[encoded data removed]",
      "text/plain": [
       "<Figure size 432x288 with 1 Axes>"
      ]
     },
     "metadata": {
      "needs_background": "light"
     },
     "output_type": "display_data"
    }
   ],
   "source": [
    "## Agrego un plano para proyectar los puntos \n",
    "\n",
    "fig = plt.figure()\n",
    "ax = plt.axes(projection='3d')\n",
    "ax.title.set_text('Tiempo de entrenamiento')\n",
    "\n",
    "ax.set_xlabel('rank')\n",
    "ax.set_ylabel('maxIter')\n",
    "ax.set_zlabel('time (s)')\n",
    "\n",
    "for i, model in enumerate(MODELS):\n",
    "    rank = model.getRank()\n",
    "    maxIter = model.getMaxIter()\n",
    "    for t in train_times[i]:\n",
    "        ax.scatter(rank, maxIter, t, color=\"red\")   \n",
    "\n",
    "xdata = np.linspace(0,100,10)\n",
    "ydata = np.linspace(0,16,10)\n",
    "X,Y = np.meshgrid(xdata,ydata)\n",
    "Z = 1.6*Y + 1.0*X + 9\n",
    "\n",
    "surf=ax.plot_surface(X, Y, Z, color=\"orange\", label=\"plano π representativo\") \n",
    "surf._facecolors2d = surf._facecolor3d\n",
    "surf._edgecolors2d = surf._edgecolor3d\n",
    "ax.legend(handles=[surf])"
   ]
  },
  {
   "cell_type": "markdown",
   "metadata": {},
   "source": [
    "## [2] Precision del modelo\n",
    "\n",
    "Vamos a ver la precision ($A$) del modelo usando la recomendacion para usuarios. \n",
    "\n",
    "$$A = \\frac{\\# VistasBuenas}{\\# Vistas} $$\n",
    "\n",
    "Donde:\n",
    "* $VistasBuenas$: cantidad de items recomendados al usuario que despues fueron vistos en el test_ds.\n",
    "* $Vistas$: cantidad de vistas del usuario en el test_ds."
   ]
  },
  {
   "cell_type": "code",
   "execution_count": 224,
   "metadata": {},
   "outputs": [],
   "source": [
    "train, test = datasets[1].randomSplit([0.8, 0.2], seed=0)"
   ]
  },
  {
   "cell_type": "code",
   "execution_count": 250,
   "metadata": {},
   "outputs": [],
   "source": [
    "# por una cuestion de performance, \n",
    "# voy a pasar las u_recomendaciones a un formato como el df original de las vistas\n",
    "\n",
    "def recommendations_to_views_format(recommendations) -> DataFrame:\n",
    "    global spark\n",
    "    gg = []\n",
    "    for user_id, recs in recommendations.collect():\n",
    "        for group_id, rating in recs:\n",
    "            gg.append({\"user_id\": user_id, \"group_id\": group_id})\n",
    "    return spark.createDataFrame(gg)"
   ]
  },
  {
   "cell_type": "code",
   "execution_count": 281,
   "metadata": {},
   "outputs": [],
   "source": [
    "def compute_precision(model, train, users_in_test, n_recs=100) -> float:\n",
    "\n",
    "    # dejo en el test_df solo los que tengan ids en comun con train_df    \n",
    "    util_test_df = train.filter(train.user_id.isin(users_in_test))\n",
    "\n",
    "    # recomiendo para todos los usuarios en comun en el train_df y test_df\n",
    "    u_recommendations = model.recommendForUserSubset(util_test_df, n_recs)\n",
    "    # paso las recomendaciones al mismo formato que el test\n",
    "    u_recommendations_as_df = recommendations_to_views_format(u_recommendations)\n",
    "\n",
    "    # me fijo filas en comun entre el test y las recomendaciones\n",
    "    test_ug = test.select(\"user_id\", \"group_id\")\n",
    "    recs_ug = u_recommendations_as_df.select(\"user_id\", \"group_id\")\n",
    "\n",
    "    score = test_ug.intersect(recs_ug).count() / test_ug.count()\n",
    "    \n",
    "    return score"
   ]
  },
  {
   "cell_type": "code",
   "execution_count": 282,
   "metadata": {},
   "outputs": [
    {
     "name": "stderr",
     "output_type": "stream",
     "text": [
      "                                                                                \r"
     ]
    }
   ],
   "source": [
    "model = ALS_MODELS[0].fit(train)\n",
    "users_in_test = set([i.user_id for i in test.select(\"user_id\").collect()])"
   ]
  },
  {
   "cell_type": "code",
   "execution_count": 283,
   "metadata": {},
   "outputs": [
    {
     "name": "stderr",
     "output_type": "stream",
     "text": [
      "                                                                                \r"
     ]
    },
    {
     "data": {
      "text/plain": [
       "0.02358490566037736"
      ]
     },
     "execution_count": 283,
     "metadata": {},
     "output_type": "execute_result"
    }
   ],
   "source": [
    "compute_precision(model, train, users_in_test)"
   ]
  }
 ],
 "metadata": {
  "kernelspec": {
   "display_name": "Python 3 (ipykernel)",
   "language": "python",
   "name": "python3"
  },
  "language_info": {
   "codemirror_mode": {
    "name": "ipython",
    "version": 3
   },
   "file_extension": ".py",
   "mimetype": "text/x-python",
   "name": "python",
   "nbconvert_exporter": "python",
   "pygments_lexer": "ipython3",
   "version": "3.10.6"
  },
  "orig_nbformat": 4
 },
 "nbformat": 4,
 "nbformat_minor": 2
}
