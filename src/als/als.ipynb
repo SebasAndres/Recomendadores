{
 "cells": [
  {
   "cell_type": "markdown",
   "id": "1647b06f",
   "metadata": {},
   "source": [
    "# Alternating Least Squares\n",
    "\n",
    "### Sintesis: \n",
    "\n",
    "Sea $r_{ui}$ la cantidad de veces que el usuario $u$ vio el contenido $i$,\n",
    "\n",
    "Llamamos $p_{ui} \\in (0, 1)$ a la preferencia del usuario $u$ al item $i$, donde\n",
    "* $p_{ui} = 1 \\leftrightarrow r_{ui} > 0$,\n",
    "* $p_{ui} = 0 \\leftrightarrow r_{ui} = 0$\n",
    "\n",
    "Entonces, si el usuario $u$ no vio el contenido $i$ asumimos que no hay preferencia ($r_{ui} = 0 \\rightarrow p_{ui} = 0$), con un cierto nivel de confianza $C_{ui}$.\n",
    "\n",
    "El nivel de confianza $C_{ui}$, mide la confianza de observar el $p_{ui}$ estimado, y es directamente proporcional a $r_{ui}$.\n",
    "\n",
    "$$C_{ui} = 1 + \\alpha r_{ui}$$\n",
    "\n",
    "Nuestro objetivo es encontrar un vector $x_u \\in \\Re^f$ por cada usuario $u$, y un vector $y_i \\in \\Re^f$ por cada item $i$ que factorice las preferencias de la siguiente forma...\n",
    "\n",
    "$$\\hat r_{ui} = x_u^T y_i$$\n",
    "\n",
    "Como el error que se usa es Least Squared Error, los factores se calculan minimizando la siguiente funcion de costo:\n",
    "\n",
    "$$\\min x^*, y^* \\sum_{u,i} c_{ui}(p_{ui}-x_u^Ty_i)^2 + \\lambda(\\sum_u ||x_u||^2 + \\sum_i ||y_i||^2)$$\n",
    "\n",
    "Podemos ver la similaridad entre dos items $i, j$ desde la perspectiva del usuario $u$ como $s_{ij}^u = y_i^T W^u y_j$,<br>\n",
    "\n",
    "Donde $W_u = (Y^T C^u Y + \\lambda I)^{-1} \\in \\Re^{f x f}$ y $C^u$ es una matriz diagonal $n * n$ con $C^u_{ii} = c_{ui}$\n",
    "\n",
    "Y vale el estimador $\\hat p_{ui} = \\sum_{j:r_{uj}>0} s_{ij}^u c_{uj}$"
   ]
  },
  {
   "cell_type": "code",
   "execution_count": 29,
   "id": "349c3314",
   "metadata": {},
   "outputs": [
    {
     "name": "stderr",
     "output_type": "stream",
     "text": [
      "[Stage 1205:=================================================>(1982 + 4) / 2000]\r"
     ]
    },
    {
     "name": "stderr",
     "output_type": "stream",
     "text": [
      "[Stage 1221:>                                                      (0 + 4) / 40]\r"
     ]
    }
   ],
   "source": [
    "from pyspark.ml.recommendation import ALS\n",
    "from pyspark.ml.clustering import KMeans\n",
    "from pyspark.ml.clustering import BisectingKMeans\n",
    "\n",
    "from pyspark import SparkContext, SparkConf\n",
    "from pyspark.sql import SQLContext, DataFrame\n",
    "from pyspark.sql.functions import col, lit, udf\n",
    "from pyspark.sql.types import *\n",
    "\n",
    "from tqdm.notebook import trange, tqdm\n",
    "import matplotlib.pyplot as plt\n",
    "import numpy as np\n",
    "\n",
    "from models.utils import uutils\n",
    "from models.interpreter import Interpreter"
   ]
  },
  {
   "cell_type": "markdown",
   "id": "40bc9bd2",
   "metadata": {},
   "source": [
    "## [1] Lectura de datos"
   ]
  },
  {
   "cell_type": "code",
   "execution_count": 3,
   "id": "a8f00774",
   "metadata": {},
   "outputs": [],
   "source": [
    "load_options = {\"table\": \"view_events\", \"keyspace\": \"clarovideo\"}\n",
    "df = spark.read.format(\"org.apache.spark.sql.cassandra\").options(**load_options).load()"
   ]
  },
  {
   "cell_type": "code",
   "execution_count": 4,
   "id": "0ad83c9c",
   "metadata": {},
   "outputs": [
    {
     "name": "stdout",
     "output_type": "stream",
     "text": [
      "root\n",
      " |-- user_id: integer (nullable = false)\n",
      " |-- event: string (nullable = true)\n",
      " |-- event_time: timestamp (nullable = true)\n",
      " |-- group_id: integer (nullable = true)\n",
      " |-- view: integer (nullable = false)\n",
      "\n"
     ]
    }
   ],
   "source": [
    "dataset = df.withColumn(\"view\", lit(1))\n",
    "dataset.printSchema()"
   ]
  },
  {
   "cell_type": "code",
   "execution_count": 5,
   "id": "206767d8",
   "metadata": {},
   "outputs": [],
   "source": [
    "## ACA DEBERIA ELIMINAR DEL DS CONTENIDO QUE NUNCA SE RECOMIENDA (ej. Contenido que no es C1)"
   ]
  },
  {
   "cell_type": "code",
   "execution_count": 6,
   "id": "9f9c2422",
   "metadata": {},
   "outputs": [
    {
     "name": "stderr",
     "output_type": "stream",
     "text": [
      "[Stage 0:====================================================>     (9 + 1) / 10]\r"
     ]
    },
    {
     "name": "stdout",
     "output_type": "stream",
     "text": [
      "Hay 2927260 interaciones en el dataset!\n"
     ]
    },
    {
     "name": "stderr",
     "output_type": "stream",
     "text": [
      "                                                                                \r"
     ]
    }
   ],
   "source": [
    "print(\"Hay %d interaciones en el dataset!\" % dataset.count())"
   ]
  },
  {
   "cell_type": "code",
   "execution_count": 7,
   "id": "7a3a00f9",
   "metadata": {},
   "outputs": [],
   "source": [
    "(train, test) = dataset.randomSplit([.8, .2]) "
   ]
  },
  {
   "cell_type": "code",
   "execution_count": 8,
   "id": "fd591dff",
   "metadata": {},
   "outputs": [
    {
     "name": "stderr",
     "output_type": "stream",
     "text": [
      "[Stage 3:>                                                          (0 + 1) / 1]\r"
     ]
    },
    {
     "name": "stdout",
     "output_type": "stream",
     "text": [
      "+-------+-----+-------------------+--------+----+\n",
      "|user_id|event|         event_time|group_id|view|\n",
      "+-------+-----+-------------------+--------+----+\n",
      "|2053736| view|2023-05-16 13:46:27| 1029761|   1|\n",
      "|2053736| view|2023-05-19 09:33:22| 1118573|   1|\n",
      "|2053736| view|2023-05-19 10:08:38| 1071265|   1|\n",
      "|2053789| view|2023-05-21 13:35:08|  633407|   1|\n",
      "|2054609| view|2023-05-22 22:32:36|  526833|   1|\n",
      "+-------+-----+-------------------+--------+----+\n",
      "only showing top 5 rows\n",
      "\n"
     ]
    },
    {
     "name": "stderr",
     "output_type": "stream",
     "text": [
      "                                                                                \r"
     ]
    }
   ],
   "source": [
    "train.show(5)"
   ]
  },
  {
   "cell_type": "markdown",
   "id": "bcdfa2f1",
   "metadata": {},
   "source": [
    "## [2] Parametros del modelo"
   ]
  },
  {
   "cell_type": "code",
   "execution_count": 9,
   "id": "e845375d",
   "metadata": {},
   "outputs": [],
   "source": [
    "als = ALS(maxIter=5,\n",
    "          rank=5,\n",
    "          regParam=0.01,\n",
    "          userCol='user_id',\n",
    "          itemCol='group_id',\n",
    "          ratingCol='view',\n",
    "          implicitPrefs=True\n",
    "         )"
   ]
  },
  {
   "cell_type": "markdown",
   "id": "7ed555a8",
   "metadata": {},
   "source": [
    "## [3] Entrenamiento del modelo"
   ]
  },
  {
   "cell_type": "code",
   "execution_count": 10,
   "id": "7e745493",
   "metadata": {},
   "outputs": [
    {
     "name": "stderr",
     "output_type": "stream",
     "text": [
      "                                                                                \r"
     ]
    }
   ],
   "source": [
    "model = als.fit(train)"
   ]
  },
  {
   "cell_type": "markdown",
   "id": "1e481751",
   "metadata": {},
   "source": [
    "## [4] Predicciones"
   ]
  },
  {
   "cell_type": "markdown",
   "id": "12d191d2",
   "metadata": {},
   "source": [
    "### Recomendar items a usuarios"
   ]
  },
  {
   "cell_type": "code",
   "execution_count": 23,
   "id": "974dac78",
   "metadata": {},
   "outputs": [
    {
     "name": "stderr",
     "output_type": "stream",
     "text": [
      "[Stage 217:=====================================================>(99 + 1) / 100]\r"
     ]
    },
    {
     "name": "stdout",
     "output_type": "stream",
     "text": [
      "+-------+--------------------+\n",
      "|user_id|     recommendations|\n",
      "+-------+--------------------+\n",
      "|2043074|[{1118573, 2.5434...|\n",
      "|2060621|[{1119066, 0.1128...|\n",
      "|2066657|[{724938, 0.03825...|\n",
      "+-------+--------------------+\n",
      "only showing top 3 rows\n",
      "\n"
     ]
    },
    {
     "name": "stderr",
     "output_type": "stream",
     "text": [
      "                                                                                \r"
     ]
    }
   ],
   "source": [
    "all_users_recommendations = model.recommendForAllUsers(10)\n",
    "all_users_recommendations.show(3)"
   ]
  },
  {
   "cell_type": "code",
   "execution_count": 11,
   "id": "4d60c793",
   "metadata": {},
   "outputs": [],
   "source": [
    "def get_user_recommendations(recommendations, user_id) -> list:\n",
    "    return recommendations[recommendations.user_id == user_id].collect()[0][1]\n",
    "\n",
    "# get_user_recommendations(all_users_recommendations, user_id=2043074)[:3]"
   ]
  },
  {
   "cell_type": "markdown",
   "id": "98d364a9",
   "metadata": {},
   "source": [
    "### Recomendar usuarios a items"
   ]
  },
  {
   "cell_type": "code",
   "execution_count": 27,
   "id": "fda3b05e",
   "metadata": {},
   "outputs": [
    {
     "name": "stderr",
     "output_type": "stream",
     "text": [
      "[Stage 341:=====================================================>(99 + 1) / 100]\r"
     ]
    },
    {
     "name": "stdout",
     "output_type": "stream",
     "text": [
      "+--------+--------------------+\n",
      "|group_id|     recommendations|\n",
      "+--------+--------------------+\n",
      "|  529800|[{82346593, 0.002...|\n",
      "|  529827|[{82346593, 0.002...|\n",
      "|  529830|[{81677492, 0.002...|\n",
      "+--------+--------------------+\n",
      "only showing top 3 rows\n",
      "\n"
     ]
    },
    {
     "name": "stderr",
     "output_type": "stream",
     "text": [
      "                                                                                \r"
     ]
    }
   ],
   "source": [
    "all_item_recommendations = model.recommendForAllItems(10)\n",
    "all_item_recommendations.show(3)"
   ]
  },
  {
   "cell_type": "code",
   "execution_count": 12,
   "id": "70474b94",
   "metadata": {},
   "outputs": [],
   "source": [
    "def get_item_recommendations(recommendations, group_id) -> list:\n",
    "    return recommendations[recommendations.group_id == group_id].collect()[0][1]\n",
    "\n",
    "# get_item_recommendations(all_item_recommendations, group_id=1113109)[:3]"
   ]
  },
  {
   "cell_type": "markdown",
   "id": "0055be63",
   "metadata": {},
   "source": [
    "### Recomendar items similares"
   ]
  },
  {
   "cell_type": "markdown",
   "id": "8a75544f",
   "metadata": {},
   "source": [
    "#### Approach 1: Distancia Euclidiana\n",
    "\n",
    "Sea el item $i$, quiero ver cuales son los $k$ items con factores mas cercanos a $y_i$.\n",
    "\n",
    "Usando la distacia euclidiana entre dos items $i$, $j$...\n",
    "\n",
    "$$d(y_i, y_j) = \\sqrt {\\sum_{k = 1}^f (y_{ik} - y_{jk})^2}$$\n",
    "\n",
    "Armo un nuevo dataframe con una columna \"difference\" con los $d(y_i, y_j)$ para cada item $j$ en models.itemFactors.\n",
    "\n",
    "Luego, ordeno el df a partir de esa columna de forma ascendente, y tomo los primeros $k$ group_ids"
   ]
  },
  {
   "cell_type": "code",
   "execution_count": 13,
   "id": "96200f29",
   "metadata": {},
   "outputs": [],
   "source": [
    "def recommend_similar_items_v1(model, group_id):\n",
    "    # Recomiendo items para el item dado, con distancia euclidiana\n",
    "\n",
    "    # leo los factores latentes del item\n",
    "    y_i = model.itemFactors.filter(model.itemFactors.id == group_id).select(\"features\").collect()[0][0]\n",
    "\n",
    "    # armo una columna con las diferencias entre los factores de cada item y los del item dado \n",
    "    differencer = udf(lambda x: sum([(list(x)[k]-y_i[k])**2  for k in range(len(list(x)))]), FloatType())\n",
    "    distances = model.itemFactors.withColumn('difference', differencer('features'))\n",
    "    \n",
    "    return distances.orderBy(col('difference'))"
   ]
  },
  {
   "cell_type": "code",
   "execution_count": 14,
   "id": "6402a066",
   "metadata": {},
   "outputs": [
    {
     "name": "stdout",
     "output_type": "stream",
     "text": [
      "+------+--------------------+\n",
      "|    id|            features|\n",
      "+------+--------------------+\n",
      "|526420|[8.499692E-15, 7....|\n",
      "|526480|[3.8600556E-5, -4...|\n",
      "|526640|[9.855362E-5, -7....|\n",
      "+------+--------------------+\n",
      "only showing top 3 rows\n",
      "\n"
     ]
    }
   ],
   "source": [
    "model.itemFactors.show(3)"
   ]
  },
  {
   "cell_type": "code",
   "execution_count": 15,
   "id": "8bff7109",
   "metadata": {},
   "outputs": [
    {
     "name": "stderr",
     "output_type": "stream",
     "text": [
      "[Stage 160:=======================================>                (7 + 3) / 10]\r"
     ]
    },
    {
     "name": "stdout",
     "output_type": "stream",
     "text": [
      "+-------+--------------------+-------------+\n",
      "|     id|            features|   difference|\n",
      "+-------+--------------------+-------------+\n",
      "| 526420|[8.499692E-15, 7....|          0.0|\n",
      "| 572762|[4.3156977E-15, 1...| 4.157289E-29|\n",
      "|1113899|[5.501991E-15, 8....|1.0777146E-28|\n",
      "|1109276|[5.501991E-15, 8....|1.0777146E-28|\n",
      "|1109275|[5.501991E-15, 8....|1.0777146E-28|\n",
      "|1118811|[5.501991E-15, 8....|1.0777146E-28|\n",
      "|1119065|[5.501991E-15, 8....|1.0777146E-28|\n",
      "|1117221|[6.5741433E-15, 9...|1.2066431E-28|\n",
      "| 747410|[1.4642983E-15, 1...|1.2680384E-28|\n",
      "| 934966|[1.3838692E-15, 8...|1.3301648E-28|\n",
      "+-------+--------------------+-------------+\n",
      "only showing top 10 rows\n",
      "\n"
     ]
    },
    {
     "name": "stderr",
     "output_type": "stream",
     "text": [
      "                                                                                \r"
     ]
    }
   ],
   "source": [
    "item_id = 526420\n",
    "recommend_similar_items_v1(model, item_id).show(10)"
   ]
  },
  {
   "cell_type": "markdown",
   "id": "ecd081d0",
   "metadata": {},
   "source": [
    "### Approach 3: Clustering\n",
    "\n",
    "Armo clusters con items similares, recomiendo items dentro del cluster. \n",
    "\n",
    "En este caso, el parametro a optimizar es $k$ (cantidad de clusters), de tal forma que se minimice el error y cada cluster tenga una cantidad equitativa entre si.\n"
   ]
  },
  {
   "cell_type": "code",
   "execution_count": 16,
   "id": "00eda111",
   "metadata": {},
   "outputs": [
    {
     "name": "stderr",
     "output_type": "stream",
     "text": [
      "                                                                                \r"
     ]
    }
   ],
   "source": [
    "N_CLUSTERS = 5 # K \n",
    "\n",
    "kmeans = BisectingKMeans().setK(N_CLUSTERS).setSeed(1)\n",
    "kmeans_model = kmeans.fit(model.itemFactors)"
   ]
  },
  {
   "cell_type": "code",
   "execution_count": 17,
   "id": "6afcbacc",
   "metadata": {},
   "outputs": [],
   "source": [
    "cluster_preds = kmeans_model.transform(model.itemFactors)\n",
    "clusters = dict() # puntos por cluster\n",
    "\n",
    "for cluster in range(N_CLUSTERS):\n",
    "    # leo los puntos del cluster\n",
    "    cluster_points = cluster_preds.filter(cluster_preds.prediction == cluster).collect()    \n",
    "    \n",
    "    for item, features, _ in cluster_points:\n",
    "        # agrego cada punto al nodo correspondiente\n",
    "        point = features\n",
    "        if cluster in clusters.keys():\n",
    "            clusters[cluster].append(point)\n",
    "        else:\n",
    "            clusters.update({cluster: [point]})"
   ]
  },
  {
   "cell_type": "code",
   "execution_count": 18,
   "id": "507bd8d0",
   "metadata": {},
   "outputs": [
    {
     "name": "stdout",
     "output_type": "stream",
     "text": [
      "Cluster #0: 28513 items\n",
      "Cluster #1: 250 items\n",
      "Cluster #2: 121 items\n",
      "Cluster #3: 1 items\n",
      "Cluster #4: 47 items\n"
     ]
    },
    {
     "data": {
      "image/png": "[encoded data removed]",
      "text/plain": [
       "<Figure size 432x288 with 1 Axes>"
      ]
     },
     "metadata": {
      "needs_background": "light"
     },
     "output_type": "display_data"
    }
   ],
   "source": [
    "length_clusters = [len(cluster) for cluster in clusters.values()]\n",
    "hist_data_clusters = []\n",
    "\n",
    "for cluster, length in enumerate(length_clusters):\n",
    "    print(f\"Cluster #{cluster}: {length} items\")\n",
    "    hist_data_clusters.extend([cluster] * length)\n",
    "\n",
    "plt.hist(hist_data_clusters, bins=N_CLUSTERS)\n",
    "plt.title(\"Cantidad de items por cluster\")\n",
    "plt.xlabel(\"Cluster\")\n",
    "plt.ylabel(\"Cantidad de items\")\n",
    "plt.show()"
   ]
  },
  {
   "cell_type": "code",
   "execution_count": 19,
   "id": "5250d8e3",
   "metadata": {},
   "outputs": [],
   "source": [
    "## Configuracion del grafico de puntos\n",
    "LIM = 10000 # cantidad de puntos en el grafico\n",
    "AXIS_1 = 0 # eje x\n",
    "AXIS_2 = 1 # eje y\n",
    "AXIS_3 = 3 # eje z\n",
    "\n",
    "# colores de los clusters\n",
    "CLUSTER_COLOR = [\"red\", \"blue\", \"green\", \"yellow\", \"black\",\n",
    "                 \"orange\", \"purple\", \"pink\", \"brown\", \"gray\"]"
   ]
  },
  {
   "cell_type": "code",
   "execution_count": 20,
   "id": "9b47de95",
   "metadata": {},
   "outputs": [
    {
     "name": "stdout",
     "output_type": "stream",
     "text": [
      "* Graficando los puntos por cluster.\n"
     ]
    },
    {
     "data": {
      "image/png": "[encoded data removed]",
      "text/plain": [
       "<Figure size 432x288 with 1 Axes>"
      ]
     },
     "metadata": {
      "needs_background": "light"
     },
     "output_type": "display_data"
    }
   ],
   "source": [
    "# Grafico\n",
    "print(\"* Graficando los puntos por cluster.\")\n",
    "\n",
    "fig = plt.figure()\n",
    "ax = plt.axes(projection='3d')\n",
    "ax.set_xlabel('x')\n",
    "ax.set_ylabel('y')\n",
    "ax.set_zlabel('z')\n",
    "\n",
    "for cluster, points in clusters.items():\n",
    "    for point in points[:LIM]:\n",
    "        ax.scatter(point[AXIS_1], point[AXIS_2], point[AXIS_3], color=CLUSTER_COLOR[cluster])    "
   ]
  },
  {
   "cell_type": "code",
   "execution_count": 21,
   "id": "6c546b2e",
   "metadata": {},
   "outputs": [
    {
     "data": {
      "image/png": "[encoded data removed]",
      "text/plain": [
       "<Figure size 432x288 with 1 Axes>"
      ]
     },
     "metadata": {
      "needs_background": "light"
     },
     "output_type": "display_data"
    }
   ],
   "source": [
    "fig = plt.figure()\n",
    "ax = plt.axes(projection='3d')\n",
    "\n",
    "for cluster, points in clusters.items():\n",
    "    centroid = kmeans_model.clusterCenters()[cluster]\n",
    "    ax.scatter(centroid[AXIS_1], centroid[AXIS_2], centroid[AXIS_3], color=CLUSTER_COLOR[cluster], marker=\"x\", s=100)"
   ]
  },
  {
   "cell_type": "code",
   "execution_count": 22,
   "id": "f6bc0863",
   "metadata": {},
   "outputs": [],
   "source": [
    "def recommend_similar_items_v2(cluster_preds, model, group_id):\n",
    "    # Recomiendo items que pertenecen al mismo cluster que el item dado\n",
    "\n",
    "    # leo el cluster del item\n",
    "    cluster_i = cluster_preds.filter(cluster_preds.id == group_id).select(\"prediction\").collect()[0][0]\n",
    "\n",
    "    # leo los items del cluster\n",
    "    cluster_items = cluster_preds.filter(cluster_preds.prediction == cluster_i).select(\"id\").collect()\n",
    "\n",
    "    return cluster_items    "
   ]
  },
  {
   "cell_type": "code",
   "execution_count": 23,
   "id": "fc8deafd",
   "metadata": {},
   "outputs": [
    {
     "data": {
      "text/plain": [
       "[Row(id=526420),\n",
       " Row(id=526480),\n",
       " Row(id=526640),\n",
       " Row(id=529800),\n",
       " Row(id=529820),\n",
       " Row(id=529830),\n",
       " Row(id=529940),\n",
       " Row(id=529990),\n",
       " Row(id=530420),\n",
       " Row(id=530430)]"
      ]
     },
     "execution_count": 23,
     "metadata": {},
     "output_type": "execute_result"
    }
   ],
   "source": [
    "recommend_similar_items_v2(cluster_preds, model, item_id)[:10]"
   ]
  },
  {
   "cell_type": "markdown",
   "id": "aab6139b",
   "metadata": {},
   "source": [
    "#### Approach 3: Recomendacion indirecta\n",
    "\n",
    "Como no esta implementada en la libreria, hago una \"recomendacion indirecta\":\n",
    "> 1. Recomiendo $n$ usuarios para el item y almaceno su scoring en $V_k$ \n",
    "> 2. Veo las $t$ recomendaciones de items de cada uno de los usuarios y las almaceno en $S_{kj}$\n",
    "> 3. Recomiendo $t*n$ items, con un scoring item-item $y_{ij}$...\n",
    "\n",
    "Scoring del item $j$ recomendado al item $i$:\n",
    "\n",
    "$$y_{ij} = \\sum_{S_k = j} V_k * S_{kj}$$"
   ]
  },
  {
   "cell_type": "code",
   "execution_count": 133,
   "id": "fa3840d1",
   "metadata": {},
   "outputs": [],
   "source": [
    "def recommend_items_to_item_v3(model, group_id, n_users=10, n_items=100):\n",
    "    \n",
    "    # Recomiendo usuarios para el item dado:\n",
    "\n",
    "    global spark\n",
    "\n",
    "    item_df = uutils.from_list_to_df(spark, [group_id], \"group_id\") \n",
    "    item_recommendation = model.recommendForItemSubset(item_df, n_users)\n",
    "    users_recommended = [(u_id, score) for u_id, score in item_recommendation.collect()[0][1]]\n",
    "\n",
    "    # Recomiendo items para todo esos usuarios:\n",
    "    users_df = uutils.from_list_to_df(spark, [u_id for u_id, _ in users_recommended], \"user_id\")\n",
    "    users_recommendations = model.recommendForUserSubset(users_df, n_items)\n",
    "\n",
    "    # Salida de la funcion  \n",
    "    similar_items = dict()\n",
    "\n",
    "    for user_id, user_scoring in users_recommended:\n",
    "        \n",
    "        # Recomiendo items para cada usuario recomendado\n",
    "        item_recms = get_user_recommendations(users_recommendations, user_id)  \n",
    "        \n",
    "        for g_id, item_scoring in item_recms:\n",
    "            \n",
    "            # Me fijo si ya agregue al item\n",
    "            if g_id in similar_items.keys():\n",
    "                similar_items[g_id] += item_scoring * user_scoring                \n",
    "            else:\n",
    "                similar_items.update({g_id: item_scoring * user_scoring})\n",
    "\n",
    "    # Ordeno por score\n",
    "    similar_items = [(g_id, score) for g_id, score in similar_items.items()]\n",
    "    similar_items = sorted(similar_items, key=lambda x: x[1], reverse=True)\n",
    "    \n",
    "    return similar_items"
   ]
  },
  {
   "cell_type": "code",
   "execution_count": 136,
   "id": "8646b962",
   "metadata": {},
   "outputs": [],
   "source": [
    "# recommend_items_to_item_v3(model, 790938, n_users=100, n_items=10)[:10]\n",
    "# 19 mins!!!! "
   ]
  },
  {
   "cell_type": "markdown",
   "id": "518074ac",
   "metadata": {},
   "source": [
    "## [5] Interpretar recomendaciones"
   ]
  },
  {
   "cell_type": "code",
   "execution_count": 24,
   "id": "a2f79037",
   "metadata": {},
   "outputs": [],
   "source": [
    "interpreter = Interpreter(elastic_metadata=\"http://10.20.1.91:9200/common_clarovideo\")"
   ]
  },
  {
   "cell_type": "code",
   "execution_count": 25,
   "id": "04a9e64f",
   "metadata": {},
   "outputs": [
    {
     "data": {
      "text/plain": [
       "(790938,\n",
       " 'Powers',\n",
       " 'Series',\n",
       " 'AMCO',\n",
       " 'El detective Walker, ya sin poderes, debe vencer a sus demonios personales.')"
      ]
     },
     "execution_count": 25,
     "metadata": {},
     "output_type": "execute_result"
    }
   ],
   "source": [
    "interpreter.describirItem(790938)"
   ]
  },
  {
   "cell_type": "code",
   "execution_count": 26,
   "id": "f9fa97e4",
   "metadata": {},
   "outputs": [
    {
     "name": "stderr",
     "output_type": "stream",
     "text": [
      "                                                                                \r"
     ]
    },
    {
     "name": "stdout",
     "output_type": "stream",
     "text": [
      "Item base:\n",
      "(790938, 'Powers', 'Series', 'AMCO', 'El detective Walker, ya sin poderes, debe vencer a sus demonios personales.')\n"
     ]
    },
    {
     "data": {
      "text/html": [
       "<div>\n",
       "<style scoped>\n",
       "    .dataframe tbody tr th:only-of-type {\n",
       "        vertical-align: middle;\n",
       "    }\n",
       "\n",
       "    .dataframe tbody tr th {\n",
       "        vertical-align: top;\n",
       "    }\n",
       "\n",
       "    .dataframe thead th {\n",
       "        text-align: right;\n",
       "    }\n",
       "</style>\n",
       "<table border=\"1\" class=\"dataframe\">\n",
       "  <thead>\n",
       "    <tr style=\"text-align: right;\">\n",
       "      <th></th>\n",
       "      <th>id</th>\n",
       "      <th>nombre</th>\n",
       "      <th>genero</th>\n",
       "      <th>proveedor</th>\n",
       "      <th>descripcion</th>\n",
       "    </tr>\n",
       "  </thead>\n",
       "  <tbody>\n",
       "    <tr>\n",
       "      <th>0</th>\n",
       "      <td>791002</td>\n",
       "      <td>Powers</td>\n",
       "      <td>Series</td>\n",
       "      <td>AMCO</td>\n",
       "      <td>Una droga letal que aumenta los poderes hace e...</td>\n",
       "    </tr>\n",
       "    <tr>\n",
       "      <th>1</th>\n",
       "      <td>1043847</td>\n",
       "      <td>La Prima</td>\n",
       "      <td>Comedia</td>\n",
       "      <td>AMCO</td>\n",
       "      <td>Luisa queda sumida en una encrucijada al no qu...</td>\n",
       "    </tr>\n",
       "    <tr>\n",
       "      <th>2</th>\n",
       "      <td>933072</td>\n",
       "      <td>Agente bajo fuego</td>\n",
       "      <td>suspenso</td>\n",
       "      <td>PARAMOUNT</td>\n",
       "      <td>El agente del servicio secreto, Mike Banning e...</td>\n",
       "    </tr>\n",
       "    <tr>\n",
       "      <th>3</th>\n",
       "      <td>1044683</td>\n",
       "      <td>Blade Runner 2049</td>\n",
       "      <td>acción</td>\n",
       "      <td>PARAMOUNT</td>\n",
       "      <td>Un joven corredor descubrirá una serie de secr...</td>\n",
       "    </tr>\n",
       "    <tr>\n",
       "      <th>4</th>\n",
       "      <td>1105072</td>\n",
       "      <td>Claro Sports: Pelé, Long Live the King</td>\n",
       "      <td>Sports</td>\n",
       "      <td>AMCOEVENTOS</td>\n",
       "      <td>Pelé, uno de los mejores jugadores de todos lo...</td>\n",
       "    </tr>\n",
       "    <tr>\n",
       "      <th>5</th>\n",
       "      <td>1110702</td>\n",
       "      <td>Hawaii Five-0</td>\n",
       "      <td>Crimen</td>\n",
       "      <td>PARAMOUNT</td>\n",
       "      <td>Cuando un antiguo experto en ciberterrorismo e...</td>\n",
       "    </tr>\n",
       "    <tr>\n",
       "      <th>6</th>\n",
       "      <td>594284</td>\n",
       "      <td>Las tres pelonas</td>\n",
       "      <td>Drama</td>\n",
       "      <td>AMCO</td>\n",
       "      <td>En plena Revolución mexicana Salvador y María ...</td>\n",
       "    </tr>\n",
       "    <tr>\n",
       "      <th>7</th>\n",
       "      <td>747839</td>\n",
       "      <td>Zorro</td>\n",
       "      <td>Series</td>\n",
       "      <td>AMCO</td>\n",
       "      <td>Una amiga por correspondencia de Don Alejandro...</td>\n",
       "    </tr>\n",
       "    <tr>\n",
       "      <th>8</th>\n",
       "      <td>1028972</td>\n",
       "      <td>Yo Soy la Venganza</td>\n",
       "      <td>suspenso</td>\n",
       "      <td>PARAMOUNT</td>\n",
       "      <td>Un hombre inicia un camino de venganza contra ...</td>\n",
       "    </tr>\n",
       "    <tr>\n",
       "      <th>9</th>\n",
       "      <td>711356</td>\n",
       "      <td>El Torito</td>\n",
       "      <td>Comedia</td>\n",
       "      <td>AMCO</td>\n",
       "      <td>El personal debe compartir el estacionamiento ...</td>\n",
       "    </tr>\n",
       "  </tbody>\n",
       "</table>\n",
       "</div>"
      ],
      "text/plain": [
       "        id                                  nombre    genero    proveedor   \n",
       "0   791002                                  Powers    Series         AMCO  \\\n",
       "1  1043847                                La Prima   Comedia         AMCO   \n",
       "2   933072                       Agente bajo fuego  suspenso    PARAMOUNT   \n",
       "3  1044683                       Blade Runner 2049    acción    PARAMOUNT   \n",
       "4  1105072  Claro Sports: Pelé, Long Live the King    Sports  AMCOEVENTOS   \n",
       "5  1110702                           Hawaii Five-0    Crimen    PARAMOUNT   \n",
       "6   594284                        Las tres pelonas     Drama         AMCO   \n",
       "7   747839                                   Zorro    Series         AMCO   \n",
       "8  1028972                      Yo Soy la Venganza  suspenso    PARAMOUNT   \n",
       "9   711356                               El Torito   Comedia         AMCO   \n",
       "\n",
       "                                         descripcion  \n",
       "0  Una droga letal que aumenta los poderes hace e...  \n",
       "1  Luisa queda sumida en una encrucijada al no qu...  \n",
       "2  El agente del servicio secreto, Mike Banning e...  \n",
       "3  Un joven corredor descubrirá una serie de secr...  \n",
       "4  Pelé, uno de los mejores jugadores de todos lo...  \n",
       "5  Cuando un antiguo experto en ciberterrorismo e...  \n",
       "6  En plena Revolución mexicana Salvador y María ...  \n",
       "7  Una amiga por correspondencia de Don Alejandro...  \n",
       "8  Un hombre inicia un camino de venganza contra ...  \n",
       "9  El personal debe compartir el estacionamiento ...  "
      ]
     },
     "execution_count": 26,
     "metadata": {},
     "output_type": "execute_result"
    }
   ],
   "source": [
    "n_items = 10 # cantidad de items a recomendar\n",
    "item_id = 790938\n",
    "\n",
    "# sumo una fila mas porque despues exluyo el primer item en orden, que es el mismo item\n",
    "item_recm = recommend_similar_items_v1(model, item_id).limit(n_items+1)\n",
    "item_recm_ids = [(row.id, 1-row.difference) for row in item_recm.collect()[1:]]\n",
    "\n",
    "ignored, d = interpreter.interpretar_recomendaciones(item_id, item_recm_ids)\n",
    "d"
   ]
  },
  {
   "cell_type": "markdown",
   "id": "124d0c97",
   "metadata": {},
   "source": [
    "## [6] Metricas"
   ]
  },
  {
   "cell_type": "markdown",
   "id": "76c4c85b",
   "metadata": {},
   "source": [
    "#### Approach 1: Precision & Recall"
   ]
  },
  {
   "cell_type": "code",
   "execution_count": 33,
   "id": "1cb42dc5",
   "metadata": {},
   "outputs": [],
   "source": [
    "def compute_precision(model, train, test, n_recs=100) -> float:\n",
    "\n",
    "    # Computa la precision del modelo\n",
    "    \n",
    "    global spark\n",
    "    \n",
    "    print(\"* Armando interseccion de usuarios.\")\n",
    "\n",
    "    # items en cada ds\n",
    "    users_in_test = set([i.user_id for i in test.select(\"user_id\").collect()])\n",
    "    users_in_train = set([i.user_id for i in train.select(\"user_id\").collect()])    \n",
    "    \n",
    "    # items en comun\n",
    "    shared_users = list(users_in_test.intersection(users_in_train))\n",
    "    shared_users_df = uutils.from_list_to_df(spark, shared_users, \"user_id\")\n",
    "    \n",
    "    # recomiendo para items en comun\n",
    "    print(\"* Haciendo recomendaciones para los usuarios.\")\n",
    "    recommendations = model.recommendForUserSubset(shared_users_df, n_recs)\n",
    "\n",
    "    # inicializo la precision\n",
    "    precision = 0\n",
    "    recall = 0\n",
    "\n",
    "    for i in trange(len(shared_users)):\n",
    "        \n",
    "        user_id = shared_users[i]\n",
    "        \n",
    "        # items recomendados\n",
    "        items_recommended = get_user_recommendations(recommendations, user_id)\n",
    "        items_recommended = [i for i, _ in items_recommended]\n",
    "        \n",
    "        # items en test\n",
    "        items_in_test = [i.group_id for i in test.filter(test.user_id == user_id).collect()]\n",
    "        \n",
    "        # precision/recall para el usuario ~ en este caso son iguales porque n_recs es constante\n",
    "        precision_user = len(set(items_recommended).intersection(set(items_in_test))) / n_recs\n",
    "        \n",
    "        # precision promedio\n",
    "        precision += precision_user / len(shared_users)\n",
    "\n",
    "    return precision\n",
    "        "
   ]
  },
  {
   "cell_type": "code",
   "execution_count": 1,
   "id": "5fe21a5a",
   "metadata": {},
   "outputs": [],
   "source": [
    "# compute_precision(model, train, test, n_recs=100)"
   ]
  }
 ],
 "metadata": {
  "kernelspec": {
   "display_name": "Python 3 (ipykernel)",
   "language": "python",
   "name": "python3"
  },
  "language_info": {
   "codemirror_mode": {
    "name": "ipython",
    "version": 3
   },
   "file_extension": ".py",
   "mimetype": "text/x-python",
   "name": "python",
   "nbconvert_exporter": "python",
   "pygments_lexer": "ipython3",
   "version": "3.10.6"
  }
 },
 "nbformat": 4,
 "nbformat_minor": 5
}
